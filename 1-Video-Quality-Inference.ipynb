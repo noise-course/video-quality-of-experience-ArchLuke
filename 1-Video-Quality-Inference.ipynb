{
 "cells": [
  {
   "cell_type": "markdown",
   "metadata": {
    "colab_type": "text",
    "id": "zbGBJegvBuXV"
   },
   "source": [
    "# Assignment: Video Quality Inference\n",
    "\n",
    "To this point in the class, you have learned various techniques for leading and analyzing packet captures of various types, generating features from those packet captures, and training and evaluating models using those features.\n",
    "\n",
    "In this assignment, you will put all of this together, using a network traffic trace to train a model to automatically infer video quality of experience from a labeled traffic trace.\n",
    "\n",
    "## Part 1: Warmup\n",
    "\n",
    "The first part of this assignment builds directly on the hands-on activities but extends them slightly.\n",
    "\n",
    "### Extract Features from the Network Traffic\n",
    "\n",
    "Load the `netflix.pcap` file, which is a packet trace that includes network traffic. \n",
    "\n",
    "Click [here](https://github.com/noise-lab/ml-systems/blob/main/docs/notebooks/data/netflix.pcap) to download `netflix.pcap`.\n"
   ]
  },
  {
   "cell_type": "code",
   "metadata": {
    "ExecuteTime": {
     "end_time": "2025-10-22T22:10:06.198836Z",
     "start_time": "2025-10-22T22:09:49.034328Z"
    }
   },
   "source": [
    "from scapy.all import rdpcap\n",
    "\n",
    "packets = rdpcap('netflix.pcap')"
   ],
   "outputs": [
    {
     "name": "stderr",
     "output_type": "stream",
     "text": [
      "WARNING: Wireshark is installed, but cannot read manuf !\n"
     ]
    }
   ],
   "execution_count": 1
  },
  {
   "cell_type": "markdown",
   "metadata": {
    "colab_type": "text",
    "id": "TOPPsKpYB6PS"
   },
   "source": [
    "### Identifying the Service Type\n",
    "\n",
    "Use the DNS traffic to filter the packet trace for Netflix traffic."
   ]
  },
  {
   "cell_type": "code",
   "metadata": {
    "ExecuteTime": {
     "end_time": "2025-10-22T22:11:58.764873Z",
     "start_time": "2025-10-22T22:11:58.236959Z"
    }
   },
   "source": [
    "from scapy.all import DNS, DNSQR, DNSRR\n",
    "\n",
    "NF_DOMAINS = [\"nflxvideo\", \"netflix\", \"nflxso\", \"nflxext\"]\n",
    "\n",
    "nf_txids = []\n",
    "for pkt in packets:\n",
    "    if pkt.haslayer(DNSQR):\n",
    "        qname = pkt[DNSQR].qname.decode() if isinstance(pkt[DNSQR].qname, bytes) else str(pkt[DNSQR].qname)\n",
    "        if any(domain in qname for domain in NF_DOMAINS):\n",
    "            nf_txids.append(pkt[DNS].id)\n",
    "\n",
    "nf_ipl = []\n",
    "for pkt in packets:\n",
    "    if pkt.haslayer(DNSRR) and pkt[DNS].id in nf_txids:\n",
    "        for i in range(pkt[DNS].ancount):\n",
    "            answer = pkt[DNSRR][i]\n",
    "            if answer.type == 1:  # A record\n",
    "                nf_ipl.append(answer.rdata)\n",
    "\n",
    "nf_ipl = list(set(nf_ipl))\n",
    "print(nf_ipl)"
   ],
   "outputs": [
    {
     "name": "stdout",
     "output_type": "stream",
     "text": [
      "['198.38.120.153', '198.38.120.162', '52.210.133.255', '198.38.120.167', '198.38.120.164', '52.19.39.146', '198.38.120.137', '34.252.77.54', '198.38.120.130', '52.48.148.78', '198.38.120.166', '52.208.128.101', '198.38.120.134', '52.210.19.176', '52.48.8.150', '23.57.80.120']\n"
     ]
    }
   ],
   "execution_count": 2
  },
  {
   "cell_type": "markdown",
   "metadata": {
    "colab_type": "text",
    "id": "0qFV6q2OCCsK"
   },
   "source": [
    "### Generate Statistics\n",
    "\n",
    "Generate statistics and features for the Netflix traffic flows. Use the `netml` library or any other technique that you choose to generate a set of features that you think would be good features for your model. "
   ]
  },
  {
   "cell_type": "code",
   "metadata": {
    "ExecuteTime": {
     "end_time": "2025-10-22T22:12:23.449150Z",
     "start_time": "2025-10-22T22:12:00.770693Z"
    }
   },
   "source": [
    "from netml.pparser.parser import PCAP\n",
    "import pandas as pd\n",
    "\n",
    "pcap = PCAP(\"netflix.pcap\")\n",
    "pcap.pcap2flows()\n",
    "pcap.flow2features(\"STATS\")\n",
    "feat_stats = pd.DataFrame(pcap.features)\n",
    "\n",
    "meta = pd.DataFrame([{\n",
    "    \"src\": f[0][0],\n",
    "    \"dst\": f[0][1],\n",
    "    \"sport\": f[0][2],\n",
    "    \"dport\": f[0][3],\n",
    "    \"proto\": f[0][4]\n",
    "} for f in pcap.flows])\n",
    "\n",
    "print(f\"feat_stats shape: {feat_stats.shape}\")\n",
    "print(f\"meta shape: {meta.shape}\")\n",
    "\n",
    "features = pd.concat([meta, feat_stats], axis=1)\n",
    "nf_set = set(nf_ipl)\n",
    "nf_features = features[features[\"src\"].isin(nf_set) | features[\"dst\"].isin(nf_set)]\n",
    "nf_features.head()\n",
    "\n",
    "\n",
    "\n",
    "\"\"\"\n",
    "\n",
    "The STATS feature set captures core flow-level statistics such as number of packets sent per second, number of bytes per second. These metrics summarize the fundamental traffic characteristics that influence streaming quality.\n",
    "\n",
    "\"\"\"\n"
   ],
   "outputs": [
    {
     "name": "stdout",
     "output_type": "stream",
     "text": [
      "feat_stats shape: (184, 12)\n",
      "meta shape: (184, 5)\n"
     ]
    },
    {
     "data": {
      "text/plain": [
       "              src             dst  sport  dport  proto           0         1  \\\n",
       "12  192.168.43.72  198.38.120.130  58451    443      6   14.440177  0.831015   \n",
       "13  192.168.43.72  198.38.120.130  58452    443      6   14.442865  0.761622   \n",
       "14  192.168.43.72  198.38.120.130  58453    443      6   14.437420  0.831173   \n",
       "15  192.168.43.72    52.19.39.146  58454    443      6  138.854511  1.497971   \n",
       "16  192.168.43.72    52.19.39.146  58455    443      6   74.817607  0.360878   \n",
       "\n",
       "             2           3          4     5     6      7     8      9     10  \\\n",
       "12   73.683308   88.666667  48.140997  66.0  66.0   69.0  66.0  200.0   12.0   \n",
       "13   69.099863   90.727273  49.772374  66.0  66.0   72.0  66.0  200.0   11.0   \n",
       "14   73.697377   88.666667  48.140997  66.0  66.0   69.0  66.0  200.0   12.0   \n",
       "15  184.560082  123.206731  66.443951  66.0  66.0  200.0  54.0  200.0  208.0   \n",
       "16   45.203263  125.259259  66.350692  66.0  66.0  200.0  54.0  200.0   27.0   \n",
       "\n",
       "         11  \n",
       "12   1064.0  \n",
       "13    998.0  \n",
       "14   1064.0  \n",
       "15  25627.0  \n",
       "16   3382.0  "
      ],
      "text/html": [
       "<div>\n",
       "<style scoped>\n",
       "    .dataframe tbody tr th:only-of-type {\n",
       "        vertical-align: middle;\n",
       "    }\n",
       "\n",
       "    .dataframe tbody tr th {\n",
       "        vertical-align: top;\n",
       "    }\n",
       "\n",
       "    .dataframe thead th {\n",
       "        text-align: right;\n",
       "    }\n",
       "</style>\n",
       "<table border=\"1\" class=\"dataframe\">\n",
       "  <thead>\n",
       "    <tr style=\"text-align: right;\">\n",
       "      <th></th>\n",
       "      <th>src</th>\n",
       "      <th>dst</th>\n",
       "      <th>sport</th>\n",
       "      <th>dport</th>\n",
       "      <th>proto</th>\n",
       "      <th>0</th>\n",
       "      <th>1</th>\n",
       "      <th>2</th>\n",
       "      <th>3</th>\n",
       "      <th>4</th>\n",
       "      <th>5</th>\n",
       "      <th>6</th>\n",
       "      <th>7</th>\n",
       "      <th>8</th>\n",
       "      <th>9</th>\n",
       "      <th>10</th>\n",
       "      <th>11</th>\n",
       "    </tr>\n",
       "  </thead>\n",
       "  <tbody>\n",
       "    <tr>\n",
       "      <th>12</th>\n",
       "      <td>192.168.43.72</td>\n",
       "      <td>198.38.120.130</td>\n",
       "      <td>58451</td>\n",
       "      <td>443</td>\n",
       "      <td>6</td>\n",
       "      <td>14.440177</td>\n",
       "      <td>0.831015</td>\n",
       "      <td>73.683308</td>\n",
       "      <td>88.666667</td>\n",
       "      <td>48.140997</td>\n",
       "      <td>66.0</td>\n",
       "      <td>66.0</td>\n",
       "      <td>69.0</td>\n",
       "      <td>66.0</td>\n",
       "      <td>200.0</td>\n",
       "      <td>12.0</td>\n",
       "      <td>1064.0</td>\n",
       "    </tr>\n",
       "    <tr>\n",
       "      <th>13</th>\n",
       "      <td>192.168.43.72</td>\n",
       "      <td>198.38.120.130</td>\n",
       "      <td>58452</td>\n",
       "      <td>443</td>\n",
       "      <td>6</td>\n",
       "      <td>14.442865</td>\n",
       "      <td>0.761622</td>\n",
       "      <td>69.099863</td>\n",
       "      <td>90.727273</td>\n",
       "      <td>49.772374</td>\n",
       "      <td>66.0</td>\n",
       "      <td>66.0</td>\n",
       "      <td>72.0</td>\n",
       "      <td>66.0</td>\n",
       "      <td>200.0</td>\n",
       "      <td>11.0</td>\n",
       "      <td>998.0</td>\n",
       "    </tr>\n",
       "    <tr>\n",
       "      <th>14</th>\n",
       "      <td>192.168.43.72</td>\n",
       "      <td>198.38.120.130</td>\n",
       "      <td>58453</td>\n",
       "      <td>443</td>\n",
       "      <td>6</td>\n",
       "      <td>14.437420</td>\n",
       "      <td>0.831173</td>\n",
       "      <td>73.697377</td>\n",
       "      <td>88.666667</td>\n",
       "      <td>48.140997</td>\n",
       "      <td>66.0</td>\n",
       "      <td>66.0</td>\n",
       "      <td>69.0</td>\n",
       "      <td>66.0</td>\n",
       "      <td>200.0</td>\n",
       "      <td>12.0</td>\n",
       "      <td>1064.0</td>\n",
       "    </tr>\n",
       "    <tr>\n",
       "      <th>15</th>\n",
       "      <td>192.168.43.72</td>\n",
       "      <td>52.19.39.146</td>\n",
       "      <td>58454</td>\n",
       "      <td>443</td>\n",
       "      <td>6</td>\n",
       "      <td>138.854511</td>\n",
       "      <td>1.497971</td>\n",
       "      <td>184.560082</td>\n",
       "      <td>123.206731</td>\n",
       "      <td>66.443951</td>\n",
       "      <td>66.0</td>\n",
       "      <td>66.0</td>\n",
       "      <td>200.0</td>\n",
       "      <td>54.0</td>\n",
       "      <td>200.0</td>\n",
       "      <td>208.0</td>\n",
       "      <td>25627.0</td>\n",
       "    </tr>\n",
       "    <tr>\n",
       "      <th>16</th>\n",
       "      <td>192.168.43.72</td>\n",
       "      <td>52.19.39.146</td>\n",
       "      <td>58455</td>\n",
       "      <td>443</td>\n",
       "      <td>6</td>\n",
       "      <td>74.817607</td>\n",
       "      <td>0.360878</td>\n",
       "      <td>45.203263</td>\n",
       "      <td>125.259259</td>\n",
       "      <td>66.350692</td>\n",
       "      <td>66.0</td>\n",
       "      <td>66.0</td>\n",
       "      <td>200.0</td>\n",
       "      <td>54.0</td>\n",
       "      <td>200.0</td>\n",
       "      <td>27.0</td>\n",
       "      <td>3382.0</td>\n",
       "    </tr>\n",
       "  </tbody>\n",
       "</table>\n",
       "</div>"
      ]
     },
     "execution_count": 3,
     "metadata": {},
     "output_type": "execute_result"
    }
   ],
   "execution_count": 3
  },
  {
   "cell_type": "markdown",
   "metadata": {
    "colab_type": "text",
    "id": "0qFV6q2OCCsK"
   },
   "source": [
    "**Write a brief justification for the features that you have chosen.**"
   ]
  },
  {
   "cell_type": "markdown",
   "metadata": {},
   "source": []
  },
  {
   "cell_type": "markdown",
   "metadata": {
    "colab_type": "text",
    "id": "lBCP_2SBC2xj"
   },
   "source": [
    "### Inferring Segment downloads\n",
    "\n",
    "In addition to the features that you could generate using the `netml` library or similar, add to your feature vector a \"segment downloads rate\" feature, which indicates the number of video segments downloaded for a given time window.\n",
    "\n",
    "Note: If you are using the `netml` library, generating features with `SAMP` style options may be useful, as this option gives you time windows, and you can then simply add the segment download rate to that existing dataframe."
   ]
  },
  {
   "cell_type": "code",
   "metadata": {
    "ExecuteTime": {
     "end_time": "2025-10-23T16:21:10.083831Z",
     "start_time": "2025-10-23T16:21:00.785963Z"
    }
   },
   "source": [
    "from scapy.all import IP, TCP, Raw\n",
    "import numpy as np\n",
    "\n",
    "pcap.flow2features(\"SAMP_NUM\", fft=False, header=False)\n",
    "feat_samp = pd.DataFrame(pcap.features)\n",
    "\n",
    "flows = {}\n",
    "for p in packets:\n",
    "    if not (p.haslayer(IP) and p.haslayer(TCP)):\n",
    "        continue\n",
    "    ip, tcp = p[IP], p[TCP]\n",
    "    key = (ip.src, tcp.sport, ip.dst, tcp.dport)\n",
    "    l = len(bytes(p[Raw])) if p.haslayer(Raw) else 0\n",
    "    flows.setdefault(key, []).append((float(p.time), l, ip.src, ip.dst))\n",
    "\n",
    "seg_rate = np.zeros_like(feat_samp.values)\n",
    "GAP = 1.0\n",
    "\n",
    "for i, row in features.reset_index(drop=True).iterrows():\n",
    "    key = (row[\"src\"], int(row[\"sport\"]), row[\"dst\"], int(row[\"dport\"]))\n",
    "    L = sorted(flows.get(key, []))\n",
    "    if not L: continue\n",
    "\n",
    "    times = [t for t, l, _, _ in L if l > 0]\n",
    "    if len(times) < 2: continue\n",
    "\n",
    "    seg_times = [times[0]]\n",
    "    for j in range(1, len(times)):\n",
    "        if times[j] - times[j - 1] >= GAP:\n",
    "            seg_times.append(times[j])\n",
    "\n",
    "    t0, t1 = L[0][0], L[-1][0]\n",
    "    n = feat_samp.shape[1]\n",
    "    edges = np.linspace(t0, t1, n + 1)\n",
    "    sidx = np.digitize(seg_times, edges) - 1\n",
    "    sidx = sidx[(sidx >= 0) & (sidx < n)]\n",
    "    seg_rate[i, :] = np.bincount(sidx, minlength=n)\n",
    "\n",
    "feat_seg = pd.DataFrame(seg_rate)\n",
    "features = pd.concat([meta, feat_stats, feat_seg], axis=1)\n",
    "\n",
    "nf_set = set(nf_ipl)\n",
    "nf_features = features[features[\"src\"].isin(nf_set) | features[\"dst\"].isin(nf_set)]\n",
    "nf_features.head()\n"
   ],
   "outputs": [
    {
     "data": {
      "text/plain": [
       "              src             dst  sport  dport  proto           0         1  \\\n",
       "12  192.168.43.72  198.38.120.130  58451    443      6   14.440177  0.831015   \n",
       "13  192.168.43.72  198.38.120.130  58452    443      6   14.442865  0.761622   \n",
       "14  192.168.43.72  198.38.120.130  58453    443      6   14.437420  0.831173   \n",
       "15  192.168.43.72    52.19.39.146  58454    443      6  138.854511  1.497971   \n",
       "16  192.168.43.72    52.19.39.146  58455    443      6   74.817607  0.360878   \n",
       "\n",
       "             2           3          4  ...  349  350  351  352  353  354  355  \\\n",
       "12   73.683308   88.666667  48.140997  ...  0.0  0.0  0.0  0.0  0.0  0.0  0.0   \n",
       "13   69.099863   90.727273  49.772374  ...  0.0  0.0  0.0  0.0  0.0  0.0  0.0   \n",
       "14   73.697377   88.666667  48.140997  ...  0.0  0.0  0.0  0.0  0.0  0.0  0.0   \n",
       "15  184.560082  123.206731  66.443951  ...  0.0  0.0  0.0  0.0  0.0  0.0  0.0   \n",
       "16   45.203263  125.259259  66.350692  ...  0.0  0.0  0.0  0.0  0.0  0.0  0.0   \n",
       "\n",
       "    356  357  358  \n",
       "12  0.0  0.0  0.0  \n",
       "13  0.0  0.0  0.0  \n",
       "14  0.0  0.0  0.0  \n",
       "15  0.0  0.0  0.0  \n",
       "16  0.0  0.0  0.0  \n",
       "\n",
       "[5 rows x 376 columns]"
      ],
      "text/html": [
       "<div>\n",
       "<style scoped>\n",
       "    .dataframe tbody tr th:only-of-type {\n",
       "        vertical-align: middle;\n",
       "    }\n",
       "\n",
       "    .dataframe tbody tr th {\n",
       "        vertical-align: top;\n",
       "    }\n",
       "\n",
       "    .dataframe thead th {\n",
       "        text-align: right;\n",
       "    }\n",
       "</style>\n",
       "<table border=\"1\" class=\"dataframe\">\n",
       "  <thead>\n",
       "    <tr style=\"text-align: right;\">\n",
       "      <th></th>\n",
       "      <th>src</th>\n",
       "      <th>dst</th>\n",
       "      <th>sport</th>\n",
       "      <th>dport</th>\n",
       "      <th>proto</th>\n",
       "      <th>0</th>\n",
       "      <th>1</th>\n",
       "      <th>2</th>\n",
       "      <th>3</th>\n",
       "      <th>4</th>\n",
       "      <th>...</th>\n",
       "      <th>349</th>\n",
       "      <th>350</th>\n",
       "      <th>351</th>\n",
       "      <th>352</th>\n",
       "      <th>353</th>\n",
       "      <th>354</th>\n",
       "      <th>355</th>\n",
       "      <th>356</th>\n",
       "      <th>357</th>\n",
       "      <th>358</th>\n",
       "    </tr>\n",
       "  </thead>\n",
       "  <tbody>\n",
       "    <tr>\n",
       "      <th>12</th>\n",
       "      <td>192.168.43.72</td>\n",
       "      <td>198.38.120.130</td>\n",
       "      <td>58451</td>\n",
       "      <td>443</td>\n",
       "      <td>6</td>\n",
       "      <td>14.440177</td>\n",
       "      <td>0.831015</td>\n",
       "      <td>73.683308</td>\n",
       "      <td>88.666667</td>\n",
       "      <td>48.140997</td>\n",
       "      <td>...</td>\n",
       "      <td>0.0</td>\n",
       "      <td>0.0</td>\n",
       "      <td>0.0</td>\n",
       "      <td>0.0</td>\n",
       "      <td>0.0</td>\n",
       "      <td>0.0</td>\n",
       "      <td>0.0</td>\n",
       "      <td>0.0</td>\n",
       "      <td>0.0</td>\n",
       "      <td>0.0</td>\n",
       "    </tr>\n",
       "    <tr>\n",
       "      <th>13</th>\n",
       "      <td>192.168.43.72</td>\n",
       "      <td>198.38.120.130</td>\n",
       "      <td>58452</td>\n",
       "      <td>443</td>\n",
       "      <td>6</td>\n",
       "      <td>14.442865</td>\n",
       "      <td>0.761622</td>\n",
       "      <td>69.099863</td>\n",
       "      <td>90.727273</td>\n",
       "      <td>49.772374</td>\n",
       "      <td>...</td>\n",
       "      <td>0.0</td>\n",
       "      <td>0.0</td>\n",
       "      <td>0.0</td>\n",
       "      <td>0.0</td>\n",
       "      <td>0.0</td>\n",
       "      <td>0.0</td>\n",
       "      <td>0.0</td>\n",
       "      <td>0.0</td>\n",
       "      <td>0.0</td>\n",
       "      <td>0.0</td>\n",
       "    </tr>\n",
       "    <tr>\n",
       "      <th>14</th>\n",
       "      <td>192.168.43.72</td>\n",
       "      <td>198.38.120.130</td>\n",
       "      <td>58453</td>\n",
       "      <td>443</td>\n",
       "      <td>6</td>\n",
       "      <td>14.437420</td>\n",
       "      <td>0.831173</td>\n",
       "      <td>73.697377</td>\n",
       "      <td>88.666667</td>\n",
       "      <td>48.140997</td>\n",
       "      <td>...</td>\n",
       "      <td>0.0</td>\n",
       "      <td>0.0</td>\n",
       "      <td>0.0</td>\n",
       "      <td>0.0</td>\n",
       "      <td>0.0</td>\n",
       "      <td>0.0</td>\n",
       "      <td>0.0</td>\n",
       "      <td>0.0</td>\n",
       "      <td>0.0</td>\n",
       "      <td>0.0</td>\n",
       "    </tr>\n",
       "    <tr>\n",
       "      <th>15</th>\n",
       "      <td>192.168.43.72</td>\n",
       "      <td>52.19.39.146</td>\n",
       "      <td>58454</td>\n",
       "      <td>443</td>\n",
       "      <td>6</td>\n",
       "      <td>138.854511</td>\n",
       "      <td>1.497971</td>\n",
       "      <td>184.560082</td>\n",
       "      <td>123.206731</td>\n",
       "      <td>66.443951</td>\n",
       "      <td>...</td>\n",
       "      <td>0.0</td>\n",
       "      <td>0.0</td>\n",
       "      <td>0.0</td>\n",
       "      <td>0.0</td>\n",
       "      <td>0.0</td>\n",
       "      <td>0.0</td>\n",
       "      <td>0.0</td>\n",
       "      <td>0.0</td>\n",
       "      <td>0.0</td>\n",
       "      <td>0.0</td>\n",
       "    </tr>\n",
       "    <tr>\n",
       "      <th>16</th>\n",
       "      <td>192.168.43.72</td>\n",
       "      <td>52.19.39.146</td>\n",
       "      <td>58455</td>\n",
       "      <td>443</td>\n",
       "      <td>6</td>\n",
       "      <td>74.817607</td>\n",
       "      <td>0.360878</td>\n",
       "      <td>45.203263</td>\n",
       "      <td>125.259259</td>\n",
       "      <td>66.350692</td>\n",
       "      <td>...</td>\n",
       "      <td>0.0</td>\n",
       "      <td>0.0</td>\n",
       "      <td>0.0</td>\n",
       "      <td>0.0</td>\n",
       "      <td>0.0</td>\n",
       "      <td>0.0</td>\n",
       "      <td>0.0</td>\n",
       "      <td>0.0</td>\n",
       "      <td>0.0</td>\n",
       "      <td>0.0</td>\n",
       "    </tr>\n",
       "  </tbody>\n",
       "</table>\n",
       "<p>5 rows × 376 columns</p>\n",
       "</div>"
      ]
     },
     "execution_count": 18,
     "metadata": {},
     "output_type": "execute_result"
    }
   ],
   "execution_count": 18
  },
  {
   "cell_type": "markdown",
   "metadata": {},
   "source": [
    "## Part 2: Video Quality Inference\n",
    "\n",
    "You will now load the complete video dataset from a previous study to train and test models based on these features to automatically infer the quality of a streaming video flow.\n",
    "\n",
    "For this part of the assignment, you will need two pickle files, which we provide for you by running the code below:\n",
    "\n",
    "```\n",
    "\n",
    "!gdown 'https://drive.google.com/uc?id=1N-Cf4dJ3fpak_AWgO05Fopq_XPYLVqdS' -O netflix_session.pkl\n",
    "!gdown 'https://drive.google.com/uc?id=1PHvEID7My6VZXZveCpQYy3lMo9RvMNTI' -O video_dataset.pkl\n",
    "\n",
    "```"
   ]
  },
  {
   "cell_type": "markdown",
   "metadata": {},
   "source": [
    "### Load the File\n",
    "\n",
    "Load the video dataset pickle file."
   ]
  },
  {
   "cell_type": "code",
   "metadata": {
    "ExecuteTime": {
     "end_time": "2025-10-22T22:12:35.981755Z",
     "start_time": "2025-10-22T22:12:35.859572Z"
    }
   },
   "source": [
    "import pickle\n",
    "\n",
    "with open(\"netflix_session.pkl\", \"rb\") as f:\n",
    "    data = pickle.load(f)\n",
    "\n",
    "print(type(data))"
   ],
   "outputs": [
    {
     "name": "stderr",
     "output_type": "stream",
     "text": [
      "C:\\Users\\tianc\\AppData\\Local\\Temp\\ipykernel_40588\\444966469.py:4: DeprecationWarning: numpy.core.numeric is deprecated and has been renamed to numpy._core.numeric. The numpy._core namespace contains private NumPy internals and its use is discouraged, as NumPy internals can change without warning in any release. In practice, most real-world usage of numpy.core is to access functionality in the public NumPy API. If that is the case, use the public NumPy API. If not, you are using NumPy internals. If you would still like to access an internal attribute, use numpy._core.numeric._frombuffer.\n",
      "  data = pickle.load(f)\n"
     ]
    },
    {
     "name": "stdout",
     "output_type": "stream",
     "text": [
      "<class 'pandas.core.frame.DataFrame'>\n"
     ]
    }
   ],
   "execution_count": 5
  },
  {
   "cell_type": "markdown",
   "metadata": {},
   "source": [
    "### Clean the File\n",
    "\n",
    "1. The dataset contains video resolutions that are not valid. Remove entries in the dataset that do not contain a valid video resolution. Valid resolutions are 240, 360, 480, 720, 1080."
   ]
  },
  {
   "cell_type": "code",
   "metadata": {
    "ExecuteTime": {
     "end_time": "2025-10-22T22:12:42.861920Z",
     "start_time": "2025-10-22T22:12:42.811767Z"
    }
   },
   "source": [
    "print(data.columns.tolist())\n",
    "resolutions = [240, 360, 480, 720, 1080]\n",
    "data = data[data[\"resolution\"].isin(resolutions)]"
   ],
   "outputs": [
    {
     "name": "stdout",
     "output_type": "stream",
     "text": [
      "['10_EWMA_chunksizes', '10_avg_chunksize', '10_chunksizes_50', '10_chunksizes_50R', '10_chunksizes_75', '10_chunksizes_75R', '10_chunksizes_85', '10_chunksizes_85R', '10_chunksizes_90', '10_chunksizes_90R', '10_max_chunksize', '10_min_chunksize', '10_std_chunksize', 'absolute_timestamp', 'access_50_perc', 'access_75_perc', 'access_avg', 'access_max', 'access_min', 'access_stddev', 'access_var', 'ads', 'all_prev_down_chunk_iat_50', 'all_prev_down_chunk_iat_50R', 'all_prev_down_chunk_iat_75', 'all_prev_down_chunk_iat_75R', 'all_prev_down_chunk_iat_85', 'all_prev_down_chunk_iat_85R', 'all_prev_down_chunk_iat_90', 'all_prev_down_chunk_iat_90R', 'all_prev_down_chunk_iat_avg', 'all_prev_down_chunk_iat_max', 'all_prev_down_chunk_iat_min', 'all_prev_down_chunk_iat_std', 'all_prev_up_chunk_iat_50', 'all_prev_up_chunk_iat_50R', 'all_prev_up_chunk_iat_75', 'all_prev_up_chunk_iat_75R', 'all_prev_up_chunk_iat_85', 'all_prev_up_chunk_iat_85R', 'all_prev_up_chunk_iat_90', 'all_prev_up_chunk_iat_90R', 'all_prev_up_chunk_iat_avg', 'all_prev_up_chunk_iat_max', 'all_prev_up_chunk_iat_min', 'all_prev_up_chunk_iat_std', 'allprev_avg_chunksize', 'allprev_chunksizes_50', 'allprev_chunksizes_50R', 'allprev_chunksizes_75', 'allprev_chunksizes_75R', 'allprev_chunksizes_85', 'allprev_chunksizes_85R', 'allprev_chunksizes_90', 'allprev_chunksizes_90R', 'allprev_max_chunksize', 'allprev_min_chunksize', 'allprev_std_chunksize', 'avg_flow_age', 'bitrate', 'bitrate_change', 'c_bitrate_switches', 'c_rebufferings', 'c_resolution_switches', 'chunk_end_time', 'chunk_start_time', 'cumsum_chunksizes', 'cumsum_diff', 'curr_chunksize', 'current_chunk_iat', 'deployment_session_id', 'down_chunk_iat_50', 'down_chunk_iat_50R', 'down_chunk_iat_75', 'down_chunk_iat_75R', 'down_chunk_iat_85', 'down_chunk_iat_85R', 'down_chunk_iat_90', 'down_chunk_iat_90R', 'down_chunk_iat_avg', 'down_chunk_iat_max', 'down_chunk_iat_min', 'down_chunk_iat_std', 'home_id', 'index', 'is_tcp', 'n_bitrate_switches', 'n_chunks_down', 'n_chunks_up', 'n_prev_down_chunk', 'n_prev_up_chunk', 'n_rebufferings', 'parallel_flows', 'previous_bitrate', 'quality', 'relative_timestamp', 'resolution', 'service_Video_throughput_down', 'service_Video_throughput_up', 'service_non_video_throughput_down', 'service_non_video_throughput_up', 'session_id', 'size_diff_previous', 'startup_time', 'total_throughput_down', 'total_throughput_up', 'up_chunk_iat_50', 'up_chunk_iat_50R', 'up_chunk_iat_75', 'up_chunk_iat_75R', 'up_chunk_iat_85', 'up_chunk_iat_85R', 'up_chunk_iat_90', 'up_chunk_iat_90R', 'up_chunk_iat_avg', 'up_chunk_iat_max', 'up_chunk_iat_min', 'up_chunk_iat_std', 'up_down_ratio', 'video_duration', 'video_id', 'video_position', 'wireless_50_perc', 'wireless_75_perc', 'wireless_avg', 'wireless_max', 'wireless_min', 'wireless_stddev', 'wireless_var', 'serverAckFlags', 'serverAvgBytesInFlight', 'serverAvgBytesPerPacket', 'serverAvgInterArrivalTime', 'serverAvgRetransmit', 'serverAvgRwnd', 'serverBitrateChange', 'serverByteCount', 'serverEndBytesPerPacket', 'serverFinFlags', 'serverGoodput', 'serverIdleTime', 'serverKurBytesInFlight', 'serverKurBytesPerPacket', 'serverKurInterArrivalTime', 'serverKurRetransmit', 'serverKurRwnd', 'serverMaxBytesInFlight', 'serverMaxBytesPerPacket', 'serverMaxInterArrivalTime', 'serverMaxRetransmit', 'serverMaxRwnd', 'serverMedBytesInFlight', 'serverMedBytesPerPacket', 'serverMedInterArrivalTime', 'serverMedRetransmit', 'serverMedRwnd', 'serverMinBytesInFlight', 'serverMinBytesPerPacket', 'serverMinInterArrivalTime', 'serverMinRetransmit', 'serverMinRwnd', 'serverOneRetransmit', 'serverOutOfOrderBytes', 'serverOutOfOrderPackets', 'serverPacketCount', 'serverPshFlags', 'serverRstFlags', 'serverSkeBytesInFlight', 'serverSkeBytesPerPacket', 'serverSkeInterArrivalTime', 'serverSkeRetransmit', 'serverSkeRwnd', 'serverStdBytesInFlight', 'serverStdBytesPerPacket', 'serverStdInterArrivalTime', 'serverStdRetransmit', 'serverStdRwnd', 'serverStrBytesPerPacket', 'serverSynFlags', 'serverThroughput', 'serverTwoRetransmit', 'serverUrgFlags', 'serverXRetransmit', 'serverZeroRetransmit', 'userAckFlags', 'userAvgBytesInFlight', 'userAvgBytesPerPacket', 'userAvgInterArrivalTime', 'userAvgRTT', 'userAvgRetransmit', 'userAvgRwnd', 'userByteCount', 'userEndBytesInFlight', 'userFinFlags', 'userGoodput', 'userIdleTime', 'userKurBytesInFlight', 'userKurBytesPerPacket', 'userKurInterArrivalTime', 'userKurRTT', 'userKurRetransmit', 'userKurRwnd', 'userMaxBytesInFlight', 'userMaxBytesPerPacket', 'userMaxInterArrivalTime', 'userMaxRTT', 'userMaxRetransmit', 'userMaxRwnd', 'userMedBytesInFlight', 'userMedBytesPerPacket', 'userMedInterArrivalTime', 'userMedRTT', 'userMedRetransmit', 'userMedRwnd', 'userMinBytesInFlight', 'userMinBytesPerPacket', 'userMinInterArrivalTime', 'userMinRTT', 'userMinRetransmit', 'userMinRwnd', 'userOneRetransmit', 'userOutOfOrderBytes', 'userOutOfOrderPackets', 'userPacketCount', 'userPshFlags', 'userRstFlags', 'userSkeBytesInFlight', 'userSkeBytesPerPacket', 'userSkeInterArrivalTime', 'userSkeRTT', 'userSkeRetransmit', 'userSkeRwnd', 'userStdBytesInFlight', 'userStdBytesPerPacket', 'userStdInterArrivalTime', 'userStdRTT', 'userStdRetransmit', 'userStdRwnd', 'userStrBytesInFlight', 'userSynFlags', 'userThroughput', 'userTwoRetransmit', 'userUrgFlags', 'userXRetransmit', 'userZeroRetransmit', 'service', 'startup3.3', 'startup6.6', 'startup5', 'startup10', 'startup_mc']\n"
     ]
    }
   ],
   "execution_count": 6
  },
  {
   "cell_type": "markdown",
   "metadata": {},
   "source": [
    "2. The file also contains columns that are unnecessary (in fact, unhelpful!) for performing predictions. Identify those columns, and remove them."
   ]
  },
  {
   "cell_type": "code",
   "metadata": {
    "ExecuteTime": {
     "end_time": "2025-10-22T22:12:44.727295Z",
     "start_time": "2025-10-22T22:12:44.693980Z"
    }
   },
   "source": [
    "unhelpful = [\n",
    "    \"session_id\", \"video_id\", \"deployment_session_id\", \"home_id\", \"service\",\n",
    "    \"index\", \"absolute_timestamp\", \"relative_timestamp\",\n",
    "    \"chunk_start_time\", \"chunk_end_time\", \"video_position\",\n",
    "    \"cumsum_chunksizes\", \"cumsum_diff\", \"size_diff_previous\",\n",
    "    \"serverAckFlags\", \"serverFinFlags\", \"serverPshFlags\", \"serverRstFlags\",\n",
    "    \"serverSynFlags\", \"serverUrgFlags\", \"serverXRetransmit\",\n",
    "    \"userAckFlags\", \"userFinFlags\", \"userPshFlags\", \"userRstFlags\",\n",
    "    \"userSynFlags\", \"userUrgFlags\", \"userXRetransmit\",\n",
    "    \"serverZeroRetransmit\", \"userZeroRetransmit\",\n",
    "    \"serverOneRetransmit\", \"userOneRetransmit\",\n",
    "    \"serverTwoRetransmit\", \"userTwoRetransmit\",\n",
    "    \"service_non_video_throughput_down\", \"service_non_video_throughput_up\",\n",
    "    \"startup3.3\", \"startup5\", \"startup6.6\", \"startup10\", \"startup_mc\"\n",
    "]\n",
    "\n",
    "data = data.drop(columns=unhelpful)\n",
    "\n",
    "\n",
    "\"\"\"\n",
    "\n",
    "There are over 200 columns and I couldn't understand the meaning of most of them.\n",
    "I simply asked ChatGPT to select a list that is most likely irrelevant to predicting streaming\n",
    "quality.\n",
    "\n",
    "\"\"\""
   ],
   "outputs": [],
   "execution_count": 7
  },
  {
   "cell_type": "markdown",
   "metadata": {},
   "source": [
    "**Briefly explain why you removed those columns.**"
   ]
  },
  {
   "cell_type": "markdown",
   "metadata": {},
   "source": []
  },
  {
   "cell_type": "markdown",
   "metadata": {},
   "source": [
    "### Prepare Your Data\n",
    "\n",
    "Prepare your data matrix, determine your features and labels, and perform a train-test split on your data."
   ]
  },
  {
   "cell_type": "code",
   "metadata": {
    "ExecuteTime": {
     "end_time": "2025-10-22T22:12:50.587181Z",
     "start_time": "2025-10-22T22:12:47.206251Z"
    }
   },
   "source": [
    "from sklearn.model_selection import train_test_split\n",
    "\n",
    "X = data.drop(columns=[\"resolution\"])\n",
    "y = data[\"resolution\"]\n",
    "\n",
    "print(\"Data type:\", data[\"resolution\"].dtype)\n",
    "unique_vals = data[\"resolution\"].unique()\n",
    "print(\"\\nUnique values:\", unique_vals[:20])\n",
    "X_train, X_test, y_train, y_test = train_test_split(X, y, test_size=0.05, shuffle=True)"
   ],
   "outputs": [
    {
     "name": "stdout",
     "output_type": "stream",
     "text": [
      "Data type: float64\n",
      "\n",
      "Unique values: [ 360.  480.  720. 1080.  240.]\n"
     ]
    }
   ],
   "execution_count": 8
  },
  {
   "cell_type": "markdown",
   "metadata": {},
   "source": [
    "### Train and Tune Your Model\n",
    "\n",
    "1. Select a model of your choice.\n",
    "2. Train the model using your training data."
   ]
  },
  {
   "cell_type": "code",
   "metadata": {
    "ExecuteTime": {
     "end_time": "2025-10-22T22:12:54.901490Z",
     "start_time": "2025-10-22T22:12:53.707087Z"
    }
   },
   "source": [
    "import numpy as np\n",
    "from sklearn.linear_model import RidgeClassifier\n",
    "from sklearn.metrics import classification_report\n",
    "\n",
    "num_cols = X_train.select_dtypes(include=[np.number]).columns\n",
    "X_train_dataset = X_train[num_cols].replace([np.inf, -np.inf], np.nan).fillna(0.0).to_numpy()\n",
    "X_test_dataset = X_test[num_cols].replace([np.inf, -np.inf], np.nan).fillna(0.0).to_numpy()\n",
    "\n",
    "ridge = RidgeClassifier(alpha=1)\n",
    "ridge.fit(X_train_dataset, y_train)\n",
    "\n",
    "y_pred = ridge.predict(X_test_dataset)\n",
    "\n",
    "print(classification_report(y_test, y_pred, digits=3))\n"
   ],
   "outputs": [
    {
     "name": "stdout",
     "output_type": "stream",
     "text": [
      "              precision    recall  f1-score   support\n",
      "\n",
      "       240.0      0.706     0.279     0.400        86\n",
      "       360.0      0.708     0.491     0.580       222\n",
      "       480.0      0.743     0.951     0.834      1480\n",
      "       720.0      0.720     0.244     0.365       483\n",
      "      1080.0      0.868     0.968     0.915       217\n",
      "\n",
      "    accuracy                          0.751      2488\n",
      "   macro avg      0.749     0.587     0.619      2488\n",
      "weighted avg      0.745     0.751     0.712      2488\n",
      "\n"
     ]
    }
   ],
   "execution_count": 9
  },
  {
   "cell_type": "markdown",
   "metadata": {},
   "source": [
    "### Tune Your Model\n",
    "\n",
    "Perform hyperparameter tuning to find optimal parameters for your model."
   ]
  },
  {
   "cell_type": "code",
   "metadata": {
    "ExecuteTime": {
     "end_time": "2025-10-22T22:13:09.270899Z",
     "start_time": "2025-10-22T22:12:57.125809Z"
    }
   },
   "source": [
    "import numpy as np\n",
    "from sklearn.linear_model import RidgeClassifier\n",
    "from sklearn.model_selection import GridSearchCV\n",
    "from sklearn.metrics import accuracy_score, f1_score, confusion_matrix, roc_auc_score\n",
    "\n",
    "num_cols = X_train.select_dtypes(include=[np.number]).columns\n",
    "X_train_dataset = X_train[num_cols].replace([np.inf, -np.inf], np.nan).fillna(0.0).to_numpy()\n",
    "X_test_dataset = X_test[num_cols].replace([np.inf, -np.inf], np.nan).fillna(0.0).to_numpy()\n",
    "\n",
    "ridge = RidgeClassifier()\n",
    "candidates = {\"alpha\": [0.01, 0.1, 1, 10, 100, 1000]}\n",
    "search = GridSearchCV(ridge, candidates, cv=5, scoring=\"accuracy\")\n",
    "search.fit(X_train_dataset, y_train)\n",
    "\n",
    "best = search.best_estimator_\n",
    "y_pred = best.predict(X_test_dataset)\n",
    "\n",
    "acc = accuracy_score(y_test, y_pred)\n",
    "\n",
    "f1_macro = f1_score(y_test, y_pred, average=\"macro\")\n",
    "f1_weighted = f1_score(y_test, y_pred, average=\"weighted\")\n",
    "\n",
    "labels = list(best.classes_)\n",
    "cm = confusion_matrix(y_test, y_pred, labels=labels)\n",
    "cm_df = pd.DataFrame(cm, index=[f\"true_{c}\" for c in labels], columns=[f\"pred_{c}\" for c in labels])\n",
    "\n",
    "scores = best.decision_function(X_test_dataset)\n",
    "\n",
    "scores_max = np.max(scores, axis=1, keepdims=True)\n",
    "exp_scores = np.exp(scores - scores_max)\n",
    "proba = exp_scores / np.sum(exp_scores, axis=1, keepdims=True)\n",
    "\n",
    "auc_ovr = roc_auc_score(y_test, proba, multi_class=\"ovr\")\n",
    "auc_ovo = roc_auc_score(y_test, proba, multi_class=\"ovo\")\n",
    "\n",
    "print(f\"Accuracy:{acc}\")\n",
    "print(f\"F1 (macro):{f1_macro}\")\n",
    "print(f\"F1 (weighted):{f1_weighted}\")\n",
    "print(\"Confusion Matrix:\")\n",
    "print(cm_df)\n",
    "print(f\"ROC-AUC (OVR):{auc_ovr}\")\n",
    "print(f\"ROC-AUC (OVO):{auc_ovo}\")"
   ],
   "outputs": [
    {
     "name": "stderr",
     "output_type": "stream",
     "text": [
      "C:\\Users\\tianc\\PycharmProjects\\video-quality-of-experience-ArchLuke\\.venv1\\Lib\\site-packages\\scipy\\_lib\\_util.py:1233: LinAlgWarning: Ill-conditioned matrix (rcond=6.54611e-28): result may not be accurate.\n",
      "  return f(*arrays, *other_args, **kwargs)\n",
      "C:\\Users\\tianc\\PycharmProjects\\video-quality-of-experience-ArchLuke\\.venv1\\Lib\\site-packages\\scipy\\_lib\\_util.py:1233: LinAlgWarning: Ill-conditioned matrix (rcond=1.58041e-27): result may not be accurate.\n",
      "  return f(*arrays, *other_args, **kwargs)\n",
      "C:\\Users\\tianc\\PycharmProjects\\video-quality-of-experience-ArchLuke\\.venv1\\Lib\\site-packages\\scipy\\_lib\\_util.py:1233: LinAlgWarning: Ill-conditioned matrix (rcond=6.85015e-28): result may not be accurate.\n",
      "  return f(*arrays, *other_args, **kwargs)\n",
      "C:\\Users\\tianc\\PycharmProjects\\video-quality-of-experience-ArchLuke\\.venv1\\Lib\\site-packages\\scipy\\_lib\\_util.py:1233: LinAlgWarning: Ill-conditioned matrix (rcond=2.76027e-27): result may not be accurate.\n",
      "  return f(*arrays, *other_args, **kwargs)\n",
      "C:\\Users\\tianc\\PycharmProjects\\video-quality-of-experience-ArchLuke\\.venv1\\Lib\\site-packages\\scipy\\_lib\\_util.py:1233: LinAlgWarning: Ill-conditioned matrix (rcond=1.63176e-27): result may not be accurate.\n",
      "  return f(*arrays, *other_args, **kwargs)\n",
      "C:\\Users\\tianc\\PycharmProjects\\video-quality-of-experience-ArchLuke\\.venv1\\Lib\\site-packages\\scipy\\_lib\\_util.py:1233: LinAlgWarning: Ill-conditioned matrix (rcond=2.95453e-26): result may not be accurate.\n",
      "  return f(*arrays, *other_args, **kwargs)\n",
      "C:\\Users\\tianc\\PycharmProjects\\video-quality-of-experience-ArchLuke\\.venv1\\Lib\\site-packages\\scipy\\_lib\\_util.py:1233: LinAlgWarning: Ill-conditioned matrix (rcond=3.1009e-26): result may not be accurate.\n",
      "  return f(*arrays, *other_args, **kwargs)\n",
      "C:\\Users\\tianc\\PycharmProjects\\video-quality-of-experience-ArchLuke\\.venv1\\Lib\\site-packages\\scipy\\_lib\\_util.py:1233: LinAlgWarning: Ill-conditioned matrix (rcond=2.98448e-26): result may not be accurate.\n",
      "  return f(*arrays, *other_args, **kwargs)\n",
      "C:\\Users\\tianc\\PycharmProjects\\video-quality-of-experience-ArchLuke\\.venv1\\Lib\\site-packages\\scipy\\_lib\\_util.py:1233: LinAlgWarning: Ill-conditioned matrix (rcond=3.24349e-26): result may not be accurate.\n",
      "  return f(*arrays, *other_args, **kwargs)\n",
      "C:\\Users\\tianc\\PycharmProjects\\video-quality-of-experience-ArchLuke\\.venv1\\Lib\\site-packages\\scipy\\_lib\\_util.py:1233: LinAlgWarning: Ill-conditioned matrix (rcond=2.84472e-26): result may not be accurate.\n",
      "  return f(*arrays, *other_args, **kwargs)\n",
      "C:\\Users\\tianc\\PycharmProjects\\video-quality-of-experience-ArchLuke\\.venv1\\Lib\\site-packages\\scipy\\_lib\\_util.py:1233: LinAlgWarning: Ill-conditioned matrix (rcond=2.93815e-25): result may not be accurate.\n",
      "  return f(*arrays, *other_args, **kwargs)\n",
      "C:\\Users\\tianc\\PycharmProjects\\video-quality-of-experience-ArchLuke\\.venv1\\Lib\\site-packages\\scipy\\_lib\\_util.py:1233: LinAlgWarning: Ill-conditioned matrix (rcond=3.17489e-25): result may not be accurate.\n",
      "  return f(*arrays, *other_args, **kwargs)\n",
      "C:\\Users\\tianc\\PycharmProjects\\video-quality-of-experience-ArchLuke\\.venv1\\Lib\\site-packages\\scipy\\_lib\\_util.py:1233: LinAlgWarning: Ill-conditioned matrix (rcond=3.20589e-25): result may not be accurate.\n",
      "  return f(*arrays, *other_args, **kwargs)\n",
      "C:\\Users\\tianc\\PycharmProjects\\video-quality-of-experience-ArchLuke\\.venv1\\Lib\\site-packages\\scipy\\_lib\\_util.py:1233: LinAlgWarning: Ill-conditioned matrix (rcond=3.23571e-25): result may not be accurate.\n",
      "  return f(*arrays, *other_args, **kwargs)\n",
      "C:\\Users\\tianc\\PycharmProjects\\video-quality-of-experience-ArchLuke\\.venv1\\Lib\\site-packages\\scipy\\_lib\\_util.py:1233: LinAlgWarning: Ill-conditioned matrix (rcond=3.18238e-25): result may not be accurate.\n",
      "  return f(*arrays, *other_args, **kwargs)\n"
     ]
    },
    {
     "name": "stdout",
     "output_type": "stream",
     "text": [
      "Accuracy:0.7508038585209004\n",
      "F1 (macro):0.6187210485626581\n",
      "F1 (weighted):0.7123034537620655\n",
      "Confusion Matrix:\n",
      "             pred_240.0  pred_360.0  pred_480.0  pred_720.0  pred_1080.0\n",
      "true_240.0           24           9          49           4            0\n",
      "true_360.0            5         109         101           7            0\n",
      "true_480.0            3          35        1407          29            6\n",
      "true_720.0            2           1         336         118           26\n",
      "true_1080.0           0           0           1           6          210\n",
      "ROC-AUC (OVR):0.9011089979198751\n",
      "ROC-AUC (OVO):0.9007784087100905\n"
     ]
    }
   ],
   "execution_count": 10
  },
  {
   "cell_type": "markdown",
   "metadata": {},
   "source": [
    "### Evaluate Your Model\n",
    "\n",
    "Evaluate your model accuracy according to the following metrics:\n",
    "\n",
    "1. Accuracy\n",
    "2. F1 Score\n",
    "3. Confusion Matrix\n",
    "4. ROC/AUC"
   ]
  },
  {
   "cell_type": "markdown",
   "metadata": {},
   "source": [
    "## Part 3: Predict the Ongoing Resolution of a Real Netflix Session\n",
    "\n",
    "Now that you have your model, it's time to put it in practice!\n",
    "\n",
    "Use a preprocessed Netflix video session to infer **and plot** the resolution at 10-second time intervals."
   ]
  },
  {
   "cell_type": "code",
   "metadata": {
    "ExecuteTime": {
     "end_time": "2025-10-23T16:15:33.874239Z",
     "start_time": "2025-10-23T16:15:33.255838Z"
    }
   },
   "source": [
    "import matplotlib.pyplot as plt\n",
    "import pickle\n",
    "import numpy as np\n",
    "\n",
    "with open(\"netflix_session.pkl\",\"rb\") as f:\n",
    "    raw = pickle.load(f)\n",
    "\n",
    "data = raw[raw[\"resolution\"].isin([240,360,480,720,1080])]\n",
    "data = data.drop(columns=[c for c in unhelpful if c!=\"relative_timestamp\"])\n",
    "data[\"time_bin\"] = (data[\"relative_timestamp\"]//10).astype(int)\n",
    "\n",
    "test = data.loc[X_test.index].copy()\n",
    "\n",
    "agg = test.groupby(\"time_bin\",as_index=False)[num_cols].mean()\n",
    "X = agg[num_cols].to_numpy()\n",
    "pred = best.predict(X)\n",
    "\n",
    "plt.plot(agg[\"time_bin\"]*10,pred,marker=\"o\")\n",
    "plt.xlabel(\"Time\"); plt.ylabel(\"Predicted Resolution\")\n",
    "plt.title(\"Predicted Resolution Over 10-second intervals (Test Split)\")\n",
    "plt.grid(True)\n",
    "plt.show()\n"
   ],
   "outputs": [
    {
     "name": "stderr",
     "output_type": "stream",
     "text": [
      "C:\\Users\\tianc\\AppData\\Local\\Temp\\ipykernel_40588\\674869344.py:6: DeprecationWarning: numpy.core.numeric is deprecated and has been renamed to numpy._core.numeric. The numpy._core namespace contains private NumPy internals and its use is discouraged, as NumPy internals can change without warning in any release. In practice, most real-world usage of numpy.core is to access functionality in the public NumPy API. If that is the case, use the public NumPy API. If not, you are using NumPy internals. If you would still like to access an internal attribute, use numpy._core.numeric._frombuffer.\n",
      "  raw = pickle.load(f)\n"
     ]
    },
    {
     "data": {
      "text/plain": [
       "<Figure size 640x480 with 1 Axes>"
      ],
      "image/png": "[encoded data removed]"
     },
     "metadata": {},
     "output_type": "display_data",
     "jetTransient": {
      "display_id": null
     }
    }
   ],
   "execution_count": 17
  }
 ],
 "metadata": {
  "colab": {
   "authorship_tag": "ABX9TyM0Cd1i3qtplCsVAB9qTjxA",
   "collapsed_sections": [],
   "name": "pcap_processing_solution.ipynb",
   "provenance": []
  },
  "kernelspec": {
   "display_name": "Python 3 (ipykernel)",
   "language": "python",
   "name": "python3"
  },
  "language_info": {
   "codemirror_mode": {
    "name": "ipython",
    "version": 3
   },
   "file_extension": ".py",
   "mimetype": "text/x-python",
   "name": "python",
   "nbconvert_exporter": "python",
   "pygments_lexer": "ipython3",
   "version": "3.10.7"
  }
 },
 "nbformat": 4,
 "nbformat_minor": 1
}
